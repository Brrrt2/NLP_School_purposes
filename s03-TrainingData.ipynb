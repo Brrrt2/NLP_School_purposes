{
 "cells": [
  {
   "cell_type": "markdown",
   "id": "ac1c8b24-018f-46a8-98a8-fa2ed3813462",
   "metadata": {},
   "source": [
    "<h1>Training Data (NLP)</h1>"
   ]
  },
  {
   "cell_type": "markdown",
   "id": "825172b4-43bc-4b9c-8f03-68d1c91ba468",
   "metadata": {},
   "source": [
    "<span>Learning Objectives</span>\n",
    "<li>Define training data and its importance</li>\n",
    "<li>Understand the process of collecting and preparing data for NLP models</li>\n",
    "<li>Explore different training set data sets</li>\n",
    "<li>Identify challenges related to training data in NLP</li>\n",
    "<li>Apply the best practices</li>\n",
    "<hr>\n",
    "<span>Preparing an NLP</span>\n",
    "<li>high quality training data</li>\n",
    "    <li>ensuring that the quality is not compromised</li>\n",
    "<hr>\n",
    "<span>Training Data</span>\n",
    "<li>is a type of data used for teaching new applications, model, or system to begin recognizing patterns dependent on a projects requirements.</li>\n",
    "<li>(in AI or Machine Learning) is slightly different, as they are labeled or annotated</li>\n",
    "<li>To find relationships, develop understanding, make decisions and evaluate their confidence when making a prediction.</li>\n",
    "<hr>\n",
    "<span>Types of annotations in NLP</span>\n",
    "<li>Utterances</li>\n",
    "<span>  refers to the smallest unit of speech or text that a speaker produces as a complete thought, typically separated by pauses in spoken language or punctuation in written.</span><br>\n",
    "<span>For example:</span><br>\n",
    "<span><b>Can I have pizza?</b></span>\n",
    "<br><span><b>How is the weather in Dasma?</b></span><br>\n",
    "<span>These sentences represent a single utterance.</span>\n",
    "<hr>\n",
    "<span>Spoken language analyses</span>\n",
    "<li>Understanding customer review</li>\n",
    "<li>To properly breakdown or parse the in-out data into utterances</li>\n",
    "<br><span>For example:</span><br>\n",
    "<span>The food was great | but | the service was slow. | I enjoyed the ambiance, | but | the waiter was not attentive.</span><br>\n",
    "<span>The review covers multiple ideas and utterances:</span>\n",
    "<br><span>These are individual utterances: such that they represent distinct thought or sentiment.</span>\n",
    "<li>\"The food was great\"</li>\n",
    "<li>\"The service was slow\"</li>\n",
    "<li>\"I enjoyed the ambiance\"</li>\n",
    "<li>\"The waiter was not attentive\"</li>\n",
    "<br><span>Pasing utterances</span>\n",
    "<li>It helps us ensure that each thought is analyzed separately more accurate insights from the text.</li>\n",
    "<hr>\n",
    "<span><b>Steps in Utterance Parsing for NLP Tasks:</b></span>\n",
    "<ul>\n",
    "<li>Identify pauses or breaks</li>\n",
    "    <ul>\n",
    "        <li>(In spoken language pauses)</li>\n",
    "        <li>(In written language) punctuation (. , ?) or conjunctions (but, and , or)</li>\n",
    "    </ul>\n",
    "<li>Splitting text in utterances</li>\n",
    "    <ul>\n",
    "        <li>Use punctuation or logical breaks to split a sentence</li>\n",
    "        <li>To get individual utterance, each sentence can be treated as separate utterance if it expresses a complete idea</li>\n",
    "    </ul>\n",
    "<li>Preprocessing for Machine Learning</li>\n",
    "    <ul>\n",
    "        <li>Tokenization is used to split text to words</li>\n",
    "        <li>Stemming, removing stop words</li>\n",
    "        <li>Analyze the utterances separately for tasks like <b>Sentiment Analysis</b>, intent detection or topic modeling.</li>\n",
    "    </ul>\n",
    "</ul>\n",
    "<span>Review:</span><br>\n",
    "<span>\"The laptop is fast and efficient, but the battery life is terrible. I like the design but it is too heavy to carry around.\"</span>\n",
    "<ul>\n",
    "    <li>Parsed Utterances</li>\n",
    "    <ul>\n",
    "        <li>The laptop is fast and efficient,</li>\n",
    "        <li>but the battery life is terrible.</li>\n",
    "        <li>I like the design</li>\n",
    "        <li>It is too heavy to carry around</li>\n",
    "    </ul>\n",
    "    <li>Splitting Text</li>\n",
    "    <ul>\n",
    "        <li>The laptop is fast and efficient,</li>\n",
    "        <li>but the battery life is terrible.</li>\n",
    "        <li>I like the design</li>\n",
    "        <li>It is too heavy to carry around</li>\n",
    "    </ul>\n",
    "     <li>Analyze individually</li>\n",
    "    <ul><li>Sentiment</li>\n",
    "    <ul>\n",
    "        <li>Identify the utterances:</li>      \n",
    "        <ul>\n",
    "            <li>positive</li>\n",
    "            <li>negative</li>\n",
    "            <li>neutral</li>\n",
    "        </ul>\n",
    "    </ul>\n",
    "        <li>Intent</li>\n",
    "    </ul>\n",
    "</ul>"
   ]
  },
  {
   "cell_type": "code",
   "execution_count": 138,
   "id": "d5349afb-fb1e-4ec8-823d-5515ffe067ee",
   "metadata": {},
   "outputs": [
    {
     "name": "stderr",
     "output_type": "stream",
     "text": [
      "[nltk_data] Downloading package stopwords to\n",
      "[nltk_data]     C:\\Users\\steph\\AppData\\Roaming\\nltk_data...\n",
      "[nltk_data]   Package stopwords is already up-to-date!\n",
      "[nltk_data] Downloading package punkt to\n",
      "[nltk_data]     C:\\Users\\steph\\AppData\\Roaming\\nltk_data...\n",
      "[nltk_data]   Package punkt is already up-to-date!\n"
     ]
    },
    {
     "data": {
      "text/plain": [
       "['The laptop is fast',\n",
       " 'efficient',\n",
       " 'the battery life is terrible',\n",
       " 'I like the design',\n",
       " 'it is too heavy to carry around']"
      ]
     },
     "execution_count": 138,
     "metadata": {},
     "output_type": "execute_result"
    }
   ],
   "source": [
    "## split text into sentences based on punctuation marks or conjunction (NLTK)\n",
    "import nltk\n",
    "import re\n",
    "import pandas as pd\n",
    "from nltk.tokenize import word_tokenize\n",
    "from nltk.corpus import stopwords\n",
    "\n",
    "nltk.download('stopwords')\n",
    "stop_words = set(stopwords.words('english'))\n",
    "\n",
    "## ensure NLTK resources are download\n",
    "nltk.download('punkt')\n",
    "\n",
    "review = \"The laptop is fast and efficient, but the battery life is terrible. I like the design but it is too heavy to carry around.\"\n",
    "\n",
    "## Step 1: Split text using punctuation and conjunction\n",
    "## using regular expressions to split on punctuation and some common conjunction\n",
    "utterances = re.split(r'[.,;!?]|\\b(?:but|and)\\b', review)\n",
    "\n",
    "## clean up any white spaces\n",
    "utterances = [utterance.strip() for utterance in utterances if utterance.split()]\n",
    "\n",
    "## display utterances\n",
    "utterances"
   ]
  },
  {
   "cell_type": "code",
   "execution_count": 74,
   "id": "3b112b98-0df0-4365-ad89-9fc022900a11",
   "metadata": {},
   "outputs": [
    {
     "name": "stdout",
     "output_type": "stream",
     "text": [
      "Utterance 1: The laptop is fast\n",
      "Utterance 2: efficient\n",
      "Utterance 3: the battery life is terrible\n",
      "Utterance 4: I like the design\n",
      "Utterance 5: it is too heavy to carry around\n"
     ]
    }
   ],
   "source": [
    "## Step 2: Display each utterance\n",
    "for i, utterance in enumerate(utterances, 1):\n",
    "    print(f'Utterance {i}: {utterance}')"
   ]
  },
  {
   "cell_type": "code",
   "execution_count": 128,
   "id": "f53803dc-21a0-44a7-a838-0005256306cc",
   "metadata": {},
   "outputs": [
    {
     "data": {
      "text/plain": [
       "[['laptop', 'fast'],\n",
       " ['efficient'],\n",
       " ['battery', 'life', 'terrible'],\n",
       " ['like', 'design'],\n",
       " ['heavy', 'carry', 'around']]"
      ]
     },
     "execution_count": 128,
     "metadata": {},
     "output_type": "execute_result"
    }
   ],
   "source": [
    "## Step 3: Preprocess\n",
    "## func for preprocessing\n",
    "def preprocess_utterance(utterance):\n",
    "    ## tokenize the utterance\n",
    "    tokens = word_tokenize(utterance.lower())\n",
    "\n",
    "    ## remove stopwords and keep alphanumeric tokens\n",
    "    tokens = [word for word in tokens if word.isalnum() and word not in stop_words]\n",
    "    return tokens\n",
    "\n",
    "## apply preprocessing to each utterance \n",
    "processed_utterance = [preprocess_utterance(utterance) for utterance in utterances]\n",
    "\n",
    "## display the processed utterances\n",
    "processed_utterance "
   ]
  },
  {
   "cell_type": "code",
   "execution_count": 152,
   "id": "ca887296-7624-47f6-afb4-461c9297577b",
   "metadata": {},
   "outputs": [
    {
     "name": "stdout",
     "output_type": "stream",
     "text": [
      "Accuracy: 1.00\n"
     ]
    }
   ],
   "source": [
    "## Sentiment Analysis = logic regression model\n",
    "## TF-IDF (Team Frequency - Inverse Document Frequency) vectorization to classify the \n",
    "## utterances as positive or negative\n",
    "\n",
    "from sklearn.feature_extraction.text import TfidfVectorizer\n",
    "from sklearn.model_selection import train_test_split\n",
    "from sklearn.linear_model import LogisticRegression\n",
    "from sklearn.metrics import accuracy_score\n",
    "\n",
    "## sample data\n",
    "data = {\n",
    "    \"utterances\" : [\"The laptop is fast\",  \"and efficient\", \"but the battery life is terrible.\", \n",
    "    \"I like the design\", \"but it is too heavy to carry around.\"],\n",
    "    ## 1: Positive, 0: Negative\n",
    "    \"sentiment\" : [1, 1, 0, 1, 0]\n",
    "}\n",
    "\n",
    "df = pd.DataFrame(data)\n",
    "\n",
    "## TF_IDF\n",
    "vectorizer = TfidfVectorizer(stop_words = 'english')\n",
    "x = vectorizer.fit_transform(df['utterances'])\n",
    "y = df['sentiment']\n",
    "\n",
    "## split into training and test sets\n",
    "x_train, x_test, y_train, y_test = train_test_split(x, y, test_size = 0.2, random_state = 42)\n",
    "\n",
    "## train logistic regression model\n",
    "model = LogisticRegression()\n",
    "model.fit(x_train, y_train)\n",
    "\n",
    "## predict on test data\n",
    "y_pred = model.predict(x_test)\n",
    "print(f\"Accuracy: {accuracy_score(y_test, y_pred):.2f}\")"
   ]
  },
  {
   "cell_type": "code",
   "execution_count": null,
   "id": "8020db56-e8ce-41ec-9260-f9e9aaee7684",
   "metadata": {},
   "outputs": [],
   "source": []
  }
 ],
 "metadata": {
  "kernelspec": {
   "display_name": "Python 3 (ipykernel)",
   "language": "python",
   "name": "python3"
  },
  "language_info": {
   "codemirror_mode": {
    "name": "ipython",
    "version": 3
   },
   "file_extension": ".py",
   "mimetype": "text/x-python",
   "name": "python",
   "nbconvert_exporter": "python",
   "pygments_lexer": "ipython3",
   "version": "3.12.4"
  }
 },
 "nbformat": 4,
 "nbformat_minor": 5
}

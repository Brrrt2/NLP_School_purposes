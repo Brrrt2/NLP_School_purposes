{
 "cells": [
  {
   "cell_type": "code",
   "execution_count": 16,
   "id": "91033f12-346b-42cb-9577-dc367ae099bf",
   "metadata": {},
   "outputs": [],
   "source": [
    "import nltk\n",
    "import spacy\n",
    "\n",
    "from nltk.tokenize import word_tokenize\n",
    "from nltk.corpus import stopwords\n",
    "from spacy.lang.en import English\n",
    "\n",
    "#nltk.download('punk_tab')\n",
    "#nltk.download('punkt')\n",
    "#nltk.download('stopwords')\n",
    "nlp = English()"
   ]
  },
  {
   "cell_type": "code",
   "execution_count": 10,
   "id": "f964c3b2-7b68-4743-a350-243d36c33bcd",
   "metadata": {},
   "outputs": [
    {
     "name": "stdout",
     "output_type": "stream",
     "text": [
      "Tokens using NLTK:  ['This', 'is', 'a', 'sample', 'text']\n",
      "Tokens using NLTK:  ['Nag-aaral', 'ako', 'sa', 'La', 'Salle', 'and', 'I', 'am', 'a', 'Computer', 'Science', 'Student']\n"
     ]
    }
   ],
   "source": [
    "text = \"This is a sample text\"\n",
    "tokens = word_tokenize(text)\n",
    "print(\"Tokens using NLTK: \", tokens)\n",
    "\n",
    "text1 = \"Nag-aaral ako sa La Salle and I am a Computer Science Student\"\n",
    "tokens1 = word_tokenize(text1)\n",
    "print(\"Tokens using NLTK: \", tokens1)"
   ]
  },
  {
   "cell_type": "code",
   "execution_count": 11,
   "id": "418a9e00-d09e-4d90-b390-e6daea0ca0dd",
   "metadata": {},
   "outputs": [
    {
     "name": "stdout",
     "output_type": "stream",
     "text": [
      "Tokens using SpaCy:  ['This', 'is', 'a', 'sample', 'text']\n"
     ]
    }
   ],
   "source": [
    "doc = nlp(text)\n",
    "spacy_tokens = [token.text for token in doc]\n",
    "print(\"Tokens using SpaCy: \", spacy_tokens)"
   ]
  },
  {
   "cell_type": "code",
   "execution_count": 2,
   "id": "e81a835a-8cd2-488d-aacf-86168897fc09",
   "metadata": {},
   "outputs": [],
   "source": [
    "from sklearn.feature_extraction.text import CountVectorizer\n",
    "from sklearn.naive_bayes import MultinomialNB\n",
    "from sklearn.pipeline import make_pipeline"
   ]
  },
  {
   "cell_type": "code",
   "execution_count": 18,
   "id": "dfa38187-6012-462d-a9ca-7457de13a4cf",
   "metadata": {},
   "outputs": [
    {
     "name": "stdin",
     "output_type": "stream",
     "text": [
      "Enter a text:  The movie is good and I really enjoyed it I am satisfied \n"
     ]
    },
    {
     "name": "stdout",
     "output_type": "stream",
     "text": [
      "Prediction Sentiment:  Positive\n"
     ]
    }
   ],
   "source": [
    "texts = [\n",
    "    \"The movie was fantastic, I loved every moment of it\",\n",
    "    \"The food was terrible, I would never eat there again\",\n",
    "    \"I had a great time at the concert\",\n",
    "    \"The service at the restaurant was horrible\",\n",
    "    \"I really enjoyed the book\",\n",
    "    \"The hotel room was dirty and uncomfortable\",\n",
    "    \"I am very satisfied with my purchase\",\n",
    "    \"The delivery was late and the package was damaged\",\n",
    "    \"The customer support was very helpful;\",\n",
    "    \"I am disappointed with the quality of the product\"\n",
    "]\n",
    "\n",
    "# Corresponding labels\n",
    "labels = [\n",
    "    \"Positive\",\n",
    "    \"Negative\",\n",
    "    \"Positive\",\n",
    "    \"Negative\",\n",
    "    \"Positive\",\n",
    "    \"Negative\",\n",
    "    \"Positive\",\n",
    "    \"Negative\",\n",
    "    \"Positive\",\n",
    "    \"Negative\"\n",
    "]\n",
    "\n",
    "model = make_pipeline(CountVectorizer(), MultinomialNB())\n",
    "model.fit(texts, labels)\n",
    "\n",
    "user_input = input(\"Enter a text: \")\n",
    "prediction = model.predict([user_input])\n",
    "print(\"Prediction Sentiment: \", prediction[0])"
   ]
  },
  {
   "cell_type": "code",
   "execution_count": 9,
   "id": "bdb2e4bc-637c-4e52-9303-f5bd4fa61503",
   "metadata": {},
   "outputs": [],
   "source": [
    "from sklearn.feature_extraction.text import TfidfVectorizer\n",
    "from sklearn.naive_bayes import MultinomialNB\n",
    "from sklearn.pipeline import make_pipeline"
   ]
  },
  {
   "cell_type": "code",
   "execution_count": 39,
   "id": "a316f605-8cda-4631-966c-bd806d214d79",
   "metadata": {},
   "outputs": [
    {
     "name": "stdin",
     "output_type": "stream",
     "text": [
      "Enter a text:  satisfied\n"
     ]
    },
    {
     "name": "stdout",
     "output_type": "stream",
     "text": [
      "Prediction Sentiment:  Positive\n"
     ]
    }
   ],
   "source": [
    "texts = [\n",
    "    \"The movie was fantastic, I loved every moment of it\",\n",
    "    \"The food was terrible, I would never eat there again\",\n",
    "    \"I had a great time at the concert\",\n",
    "    \"The service at the restaurant was horrible\",\n",
    "    \"I really enjoyed the book\",\n",
    "    \"The hotel room was dirty and uncomfortable\",\n",
    "    \"I am very satisfied with my purchase\",\n",
    "    \"The delivery was late and the package was damaged\",\n",
    "    \"The customer support was very helpful;\",\n",
    "    \"I am disappointed with the quality of the product\"\n",
    "]\n",
    "\n",
    "# Corresponding labels\n",
    "labels = [\n",
    "    \"Positive\",\n",
    "    \"Negative\",\n",
    "    \"Positive\",\n",
    "    \"Negative\",\n",
    "    \"Positive\",\n",
    "    \"Negative\",\n",
    "    \"Positive\",\n",
    "    \"Negative\",\n",
    "    \"Positive\",\n",
    "    \"Negative\"\n",
    "]\n",
    "\n",
    "model = make_pipeline(TfidfVectorizer(), MultinomialNB())\n",
    "model.fit(texts, labels)\n",
    "\n",
    "user_input = input(\"Enter a text: \")\n",
    "prediction = model.predict([user_input])\n",
    "print(\"Prediction Sentiment: \", prediction[0])"
   ]
  },
  {
   "cell_type": "code",
   "execution_count": 30,
   "id": "f298829a-762c-4730-a88f-a75fb4bcaef6",
   "metadata": {},
   "outputs": [
    {
     "name": "stdin",
     "output_type": "stream",
     "text": [
      "Enter a text:  satisfied\n"
     ]
    },
    {
     "name": "stdout",
     "output_type": "stream",
     "text": [
      "Prediction: ['Positive']\n"
     ]
    }
   ],
   "source": [
    "from sklearn.pipeline import make_pipeline\n",
    "from sklearn.feature_extraction.text import CountVectorizer\n",
    "from sklearn.naive_bayes import MultinomialNB \n",
    "\n",
    "\n",
    "\n",
    "\n",
    "texts = [\n",
    "    \"The movie was fantastic, I loved every moment of it\",\n",
    "    \"The food was terrible, I would never eat there again\",\n",
    "    \"I had a great time at the concert\",\n",
    "    \"The service at the restaurant was horrible\",\n",
    "    \"I really enjoyed the book\",\n",
    "    \"The hotel room was dirty and uncomfortable\",\n",
    "    \"I am very satisfied with my purchase\",\n",
    "    \"The delivery was late and the package was damaged\",\n",
    "    \"The customer support was very helpful\",\n",
    "    \"I am disappointed with the quality of the product\"\n",
    "]\n",
    "\n",
    "labels = [\n",
    "    \"Positive\",\n",
    "    \"Negative\",\n",
    "    \"Positive\",\n",
    "    \"Negative\",\n",
    "    \"Positive\",\n",
    "    \"Negative\",\n",
    "    \"Positive\",\n",
    "    \"Negative\",\n",
    "    \"Positive\",\n",
    "    \"Negative\"\n",
    "]\n",
    "\n",
    "# Split data into training and testing sets\n",
    "texts_train, texts_test, labels_train, labels_test = train_test_split(texts, labels, test_size=0.2, random_state=42)\n",
    "\n",
    "model = make_pipeline(CountVectorizer(), MultinomialNB())\n",
    "model.fit(texts_train, labels_train) # Train on training data\n",
    "\n",
    "# Predict on the test data\n",
    "predictions = model.predict(texts_test)\n",
    "\n",
    "user_input = input(\"Enter a text: \")\n",
    "prediction = model.predict([user_input])\n",
    "print(\"Prediction:\", prediction)\n",
    "\n",
    "\n"
   ]
  },
  {
   "cell_type": "code",
   "execution_count": 32,
   "id": "14fe9706-280d-4898-b0f1-d7b32bebf49e",
   "metadata": {},
   "outputs": [],
   "source": [
    "from sklearn.metrics import accuracy_score, precision_score, recall_score, f1_score\n",
    "\n",
    "text1= [\"I absolutely loved that movie!\", \n",
    "        \"The food was delicious, and the service was impeccable.\",\n",
    "        \"I'm so happy with my new phone; it's amazing!\",\n",
    "        \"The concert was incredible; I had a blast.\",\n",
    "        \"The customer service representative was extremely helpful.\",\n",
    "        \"The product I ordered was defective.\",\n",
    "        \"I'm very disappointed with the service I received.\",\n",
    "        \"The movie was boring and predictable.\",\n",
    "        \"The food was terrible; I wouldn't eat there again.\",\n",
    "        \"The customer support representative was rude and unhelpful.\"]\n",
    "label1=[\"Positive\",\"Positive\",\"Positive\",\"Positive\",\"Positive\",\n",
    "        \"Negative\",\"Negative\"\"Negative\"\"Negative\"\"Negative\"]\n",
    "    "
   ]
  },
  {
   "cell_type": "code",
   "execution_count": 40,
   "id": "a481fd0b-9026-496d-8b24-1aa0585b8d94",
   "metadata": {},
   "outputs": [
    {
     "name": "stdout",
     "output_type": "stream",
     "text": [
      "['Positive', 'Negative', 'Positive', 'Negative', 'Positive', 'Negative', 'Positive', 'Negative', 'Positive', 'Negative']\n",
      "Accuracy: 1.0\n",
      "Precision 1.0\n",
      "Recall: 1.0\n",
      "F1-Score: 1.0\n"
     ]
    }
   ],
   "source": [
    "predicted_labels=[]\n",
    "\n",
    "for text in texts:\n",
    "    prediction = model.predict([text])\n",
    "    predicted_labels.append(prediction[0])\n",
    "\n",
    "print (predicted_labels)\n",
    "\n",
    "accuracy = accuracy_score(labels, predicted_labels)\n",
    "precision = precision_score(labels, predicted_labels, average=\"weighted\")\n",
    "recall = recall_score(labels,predicted_labels, average=\"weighted\")\n",
    "f1 = f1_score(labels, predicted_labels, average=\"weighted\")\n",
    "\n",
    "print(\"Accuracy:\", accuracy)\n",
    "print(\"Precision\",precision)\n",
    "print(\"Recall:\",recall)\n",
    "print(\"F1-Score:\",f1)"
   ]
  },
  {
   "cell_type": "code",
   "execution_count": 60,
   "id": "aa9f04ea-97c7-4916-baf8-6195505a99bd",
   "metadata": {},
   "outputs": [
    {
     "name": "stdout",
     "output_type": "stream",
     "text": [
      "['Positive', 'Negative', 'Positive', 'Positive', 'Positive', 'Negative', 'Negative', 'Negative', 'Negative', 'Positive']\n",
      "Accuracy: 0.6\n",
      "Precision 0.6\n",
      "Recall: 0.6\n",
      "F1-Score: 0.6\n"
     ]
    }
   ],
   "source": [
    "\n",
    "predicted_labels=[]\n",
    "\n",
    "for text in text1:\n",
    "    prediction = model.predict([text])\n",
    "    predicted_labels.append(prediction[0])\n",
    "\n",
    "print (predicted_labels)\n",
    "\n",
    "accuracy = accuracy_score(labels, predicted_labels)\n",
    "precision = precision_score(labels, predicted_labels, average=\"weighted\")\n",
    "recall = recall_score(labels,predicted_labels, average=\"weighted\")\n",
    "f1 = f1_score(labels, predicted_labels, average=\"weighted\")\n",
    "\n",
    "print(\"Accuracy:\", accuracy)\n",
    "print(\"Precision\",precision)\n",
    "print(\"Recall:\",recall)\n",
    "print(\"F1-Score:\",f1)"
   ]
  },
  {
   "cell_type": "code",
   "execution_count": null,
   "id": "b15fd5b8-3f02-4f7b-9c4c-95887ee8533f",
   "metadata": {},
   "outputs": [],
   "source": []
  }
 ],
 "metadata": {
  "kernelspec": {
   "display_name": "Python 3 (ipykernel)",
   "language": "python",
   "name": "python3"
  },
  "language_info": {
   "codemirror_mode": {
    "name": "ipython",
    "version": 3
   },
   "file_extension": ".py",
   "mimetype": "text/x-python",
   "name": "python",
   "nbconvert_exporter": "python",
   "pygments_lexer": "ipython3",
   "version": "3.12.2"
  }
 },
 "nbformat": 4,
 "nbformat_minor": 5
}

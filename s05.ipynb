{
 "cells": [
  {
   "cell_type": "markdown",
   "id": "87bc76bb-b9bd-495b-a4f7-94172c4e0af8",
   "metadata": {},
   "source": [
    "# Word sense disambiguation(wsd)\n"
   ]
  },
  {
   "cell_type": "raw",
   "id": "c533ac1f-1b88-4e63-a61a-7c04603f2216",
   "metadata": {},
   "source": [
    "Lesson  Outcomes:\n",
    "    - Understand the concept of WSD and its importance in NLP\n",
    "    - differentiate between the knowledge-based, supervised and unsupervised\n",
    "\n",
    "approaches\n",
    "    - practice using python libraries(NLTK,WordNet) for basic WSD\n",
    "    - discuss the significance of WSD in application like search engines, translation system, and digital assistants\n",
    "    - develop a simple WSD model and test its performance using provided dataset\n",
    "\n",
    "Polysemy\n",
    "    - it refers to words that have multiple meanings. These means can vary based on the context in which the word is used.\n",
    "ex: 'bank' can refer to:\n",
    "        - financial institution\n",
    "            - I deposited money in the bank\n",
    "        - the side of the river\n",
    "            - We sat on the river bank and watched the waterflow\n",
    "\n",
    "Word Sense Disambiguation (WSD)\n",
    "    - is the task of identifying which meaning (for sense) of a word is intended in a given context, this is important in NLP because it significantly impacts the performance of different application such as:\n",
    "        - machine translation\n",
    "            - transllating the correct sense of words is essential to avoid confusion\n",
    "                ex:\n",
    "                    - time flies (literal or metaphorical)\n",
    "        - information retrieval\n",
    "            - search engines rely on WSD to provide accurate results of ambiguous terms\n",
    "        - speech recognition\n",
    "            - systems like Alexa or Siri need to understand ambiguous phrases correctly\n",
    "\n",
    "Importance of WSD in NLP\n",
    "    WSD plays a key role in several NLP task including:\n",
    "    - Text classification\n",
    "        - determines the sentiment or topic of a document requires understanding the context of ambiguous words\n",
    "    - information extraction\n",
    "        - system must extract relevant information and ignore irrelevant sense of a word\n",
    "    - machine translation\n",
    "        - choose the correct sense to ensure accurate translation across languages\n",
    "\n",
    "Note: Without the WSD, many NLP task can suffer in performance due to misinterpretation of words with multiple meanings\n",
    "\n",
    "**II. Approaches to Word Sense Disambiguation**\n",
    "\n",
    "  - **Knowldege-Based Methods** - rely on the pre-existing lexical resources like the WordNet\n",
    "    - **WordNet** - is a large lexical database of English that groups words into sets of synonyms and provide short definition for each set\n",
    "\n",
    "    - **Lesk Algorithm** - it allows us to disambiguate a word by comparing the definition of all possible sense of the word with the word in the context.\n",
    "      - the sense whose definition has the most overlapped with the surrounding words is chosen\n",
    "\n",
    "      Ex:\n",
    "      - sentence: The bank on the river was overgrown with weeds.\n",
    "\n",
    "      - word sense: 'bank'\n",
    "        - the financial institution\n",
    "         - a financial establishment for holding and managing money\n",
    "        - riverbank\n",
    "         - the slpoing ground along the edge of a river\n",
    "      - overlap of words in the context with the definition that indicates that the 'riverbank' sense is the most appropriate\n",
    "\n",
    "- **Supervised Learning Approaches** - in supervised approaches, labeled training data is used to train machine learning models to learn the correct sense of a word given the context.\n",
    "\n",
    "STEPS:\n",
    "  1. Create a labeled dataset with words and their correct senses\n",
    "  2. Training classifiers\n",
    "    - Naive Bayes\n",
    "    - Support Vector Machine\n",
    "    - use these models to predict the sense of ambiguous words in new sentences\n",
    "\n",
    "**CHALLENGES:**\n",
    "1. Requires large amount of manually labeled data which can be difficult to obtain\n",
    "2. New words and sense may not be covered by training data\n",
    "\n",
    "\n",
    "- **Unsupervised LEarning Approaches** - the unsupervised methods does not require labeld data but instead they attempt to discover word sense by clsutering occurences of words based on their context.\n",
    "- **Latent Semantic Analysis (LSA)**- is a tehcnique that reduces the dimensionality of word vectors to uncover hidden patterns and group similar contexts."
   ]
  },
  {
   "cell_type": "code",
   "execution_count": 7,
   "id": "b0e1bc68-2ac8-4220-bf48-018052d98cff",
   "metadata": {},
   "outputs": [
    {
     "name": "stdout",
     "output_type": "stream",
     "text": [
      "Requirement already satisfied: nltk in c:\\users\\bert\\anaconda3\\lib\\site-packages (3.8.1)\n",
      "Requirement already satisfied: click in c:\\users\\bert\\anaconda3\\lib\\site-packages (from nltk) (8.1.7)\n",
      "Requirement already satisfied: joblib in c:\\users\\bert\\anaconda3\\lib\\site-packages (from nltk) (1.4.2)\n",
      "Requirement already satisfied: regex>=2021.8.3 in c:\\users\\bert\\anaconda3\\lib\\site-packages (from nltk) (2023.10.3)\n",
      "Requirement already satisfied: tqdm in c:\\users\\bert\\anaconda3\\lib\\site-packages (from nltk) (4.66.4)\n",
      "Requirement already satisfied: colorama in c:\\users\\bert\\anaconda3\\lib\\site-packages (from click->nltk) (0.4.6)\n"
     ]
    }
   ],
   "source": [
    "!pip install nltk"
   ]
  },
  {
   "cell_type": "code",
   "execution_count": 46,
   "id": "a018b7d3-6e7e-49d3-b768-6ef87e533781",
   "metadata": {},
   "outputs": [
    {
     "name": "stderr",
     "output_type": "stream",
     "text": [
      "[nltk_data] Downloading package wordnet to\n",
      "[nltk_data]     C:\\Users\\Bert\\AppData\\Roaming\\nltk_data...\n",
      "[nltk_data]   Package wordnet is already up-to-date!\n",
      "[nltk_data] Downloading package omw-1.4 to\n",
      "[nltk_data]     C:\\Users\\Bert\\AppData\\Roaming\\nltk_data...\n",
      "[nltk_data]   Package omw-1.4 is already up-to-date!\n",
      "[nltk_data] Downloading package punkt to\n",
      "[nltk_data]     C:\\Users\\Bert\\AppData\\Roaming\\nltk_data...\n",
      "[nltk_data]   Package punkt is already up-to-date!\n",
      "[nltk_data] Downloading package averaged_perceptron_tagger to\n",
      "[nltk_data]     C:\\Users\\Bert\\AppData\\Roaming\\nltk_data...\n",
      "[nltk_data]   Package averaged_perceptron_tagger is already up-to-\n",
      "[nltk_data]       date!\n",
      "[nltk_data] Downloading package averaged_perceptron_tagger_eng to\n",
      "[nltk_data]     C:\\Users\\Bert\\AppData\\Roaming\\nltk_data...\n",
      "[nltk_data]   Unzipping taggers\\averaged_perceptron_tagger_eng.zip.\n"
     ]
    },
    {
     "data": {
      "text/plain": [
       "True"
      ]
     },
     "execution_count": 46,
     "metadata": {},
     "output_type": "execute_result"
    }
   ],
   "source": [
    "# nltk - wordnet and lexical database: setting up WordNet in NLTK\n",
    "import nltk\n",
    "nltk.download('wordnet')\n",
    "#for wordnet with different language\n",
    "nltk.download('omw-1.4')\n",
    "#for tokenization\n",
    "nltk.download('punkt')\n",
    "#POS tagger part of speech\n",
    "nltk.download('averaged_perceptron_tagger')\n",
    "nltk.download('averaged_perceptron_tagger_eng')"
   ]
  },
  {
   "cell_type": "code",
   "execution_count": 19,
   "id": "28ba7636-029b-48af-888d-9a5a8eb18bad",
   "metadata": {},
   "outputs": [
    {
     "name": "stdout",
     "output_type": "stream",
     "text": [
      "Best sense of 'bank': Synset('savings_bank.n.02')\n",
      "Definition: a container (usually with a slot in the top) for keeping money at home\n"
     ]
    }
   ],
   "source": [
    "# implement Lesk Algo - is simple knwoledge-based WSD method -lesk()\n",
    "from nltk.wsd import lesk\n",
    "from nltk.corpus import wordnet as wn\n",
    "\n",
    "#ex: sentence\n",
    "# sentence = 'I deposited money at the bank'\n",
    "# senteces = ['The river bank was overflowing',\n",
    "#              'He withdrew money from the bank']\n",
    "\n",
    "\n",
    "# #disambiguate the word 'bank'\n",
    "# sense = lesk(nltk.word_tokenize(sentence),'bank')\n",
    "# print(f\"Best sense of 'bank': {sense}\")\n",
    "# print(f\"Definition: {sense.definition()}\")\n",
    "\n",
    "def get_best_sense(word, context):\n",
    "    synsets = wn.synsets(words)"
   ]
  },
  {
   "cell_type": "code",
   "execution_count": 36,
   "id": "4a18e302-0efa-4bdb-94f1-3b9fea43ab9d",
   "metadata": {},
   "outputs": [
    {
     "name": "stdout",
     "output_type": "stream",
     "text": [
      "Tokenized Sentence: ['The', 'river', 'bank', 'was', 'overflowing']\n",
      "Synset('deposit.v.02')\n",
      "Sentence: The river bank was overflowing\n",
      "Best sense of 'bank': Synset('deposit.v.02')\n",
      "Definition: put into a bank account\n",
      "Tokenized Sentence: ['He', 'withdrew', 'money', 'from', 'the', 'bank']\n",
      "Synset('savings_bank.n.02')\n",
      "Sentence: He withdrew money from the bank\n",
      "Best sense of 'bank': Synset('savings_bank.n.02')\n",
      "Definition: a container (usually with a slot in the top) for keeping money at home\n"
     ]
    }
   ],
   "source": [
    "sentences = ['The river bank was overflowing',\n",
    "             'He withdrew money from the bank']\n",
    "for sentence in sentences:\n",
    "    tokens = nltk.word_tokenize(sentence)\n",
    "    print(f'Tokenized Sentence: {tokens}')\n",
    "\n",
    "    pos_tags = nltk.pos_tag(tokens)\n",
    "    print(f\"POS tags: {pos_tags}\")\n",
    "    word_sense = 'bank'\n",
    "    sense = lesk(tokens, word_sense)\n",
    "    print(sense)\n",
    "\n",
    "    # Check \n",
    "    if sense:\n",
    "        print(f\"Sentence: {sentence}\")\n",
    "        print(f\"Best sense of 'bank': {sense}\")\n",
    "        print(f\"Definition: {sense.definition()}\")\n",
    "    else:    \n",
    "        print(f\"Sentence: {sentence}\")\n",
    "        print(f\"No sense found for {word_sense} using lesk.\")\n",
    "            "
   ]
  },
  {
   "cell_type": "code",
   "execution_count": 61,
   "id": "27a176ab-ee29-401e-8b7c-6e70d6cc5b30",
   "metadata": {},
   "outputs": [
    {
     "name": "stdout",
     "output_type": "stream",
     "text": [
      "All possible senses for bank: \n",
      "Sentence: The river bank was overflowing\n",
      "Best sense of 'bank': Synset('savings_bank.n.02')\n",
      "Definition: a container (usually with a slot in the top) for keeping money at home\n",
      "All possible senses for bank: \n",
      "Sentence: He withdrew money from the bank\n",
      "Best sense of 'bank': Synset('savings_bank.n.02')\n",
      "Definition: a container (usually with a slot in the top) for keeping money at home\n"
     ]
    }
   ],
   "source": [
    "sentences = ['The river bank was overflowing',\n",
    "             'He withdrew money from the bank']\n",
    "def get_best_sense(word, context):\n",
    "    synsets = wn.synsets(word)\n",
    "    print(f'All possible senses for {word}: ')\n",
    "    for i, synset in enumerate(synsets, 1):\n",
    "        pass\n",
    "        # print(f'{i}: {synset.name()}: {synset.definition()}')\n",
    "\n",
    "    if 'river' in context or 'overflowing' in context:\n",
    "        selected_sense = synsets[0]\n",
    "    elif 'money' in context or 'withdrew' in context:\n",
    "        #Select the financial\n",
    "        selected_sense = synsets[3]\n",
    "    else:\n",
    "        selected_sense = None\n",
    "\n",
    "    return selected_sense\n",
    "\n",
    "#loop\n",
    "for sentence in sentences:\n",
    "    tokens = nltk.word_tokenize(sentence)\n",
    "    \n",
    "    best_sense = get_best_sense('bank', sentence)\n",
    "\n",
    "    # Check \n",
    "    if sense:\n",
    "        print(f\"Sentence: {sentence}\")\n",
    "        print(f\"Best sense of 'bank': {sense}\")\n",
    "        print(f\"Definition: {sense.definition()}\")\n",
    "    else:    \n",
    "        print(f\"Sentence: {sentence}\")\n",
    "        print(f\"No sense found for {word_sense} using lesk.\")"
   ]
  },
  {
   "cell_type": "code",
   "execution_count": 58,
   "id": "e09ed116-9a54-48eb-8d1f-f3b9e82daea3",
   "metadata": {},
   "outputs": [
    {
     "name": "stdout",
     "output_type": "stream",
     "text": [
      "\n",
      "All possible senses for 'bank':\n",
      "1. bank.n.01: sloping land (especially the slope beside a body of water)\n",
      "2. depository_financial_institution.n.01: a financial institution that accepts deposits and channels the money into lending activities\n",
      "3. bank.n.03: a long ridge or pile\n",
      "4. bank.n.04: an arrangement of similar objects in a row or in tiers\n",
      "5. bank.n.05: a supply or stock held in reserve for future use (especially in emergencies)\n",
      "6. bank.n.06: the funds held by a gambling house or the dealer in some gambling games\n",
      "7. bank.n.07: a slope in the turn of a road or track; the outside is higher than the inside in order to reduce the effects of centrifugal force\n",
      "8. savings_bank.n.02: a container (usually with a slot in the top) for keeping money at home\n",
      "9. bank.n.09: a building in which the business of banking transacted\n",
      "10. bank.n.10: a flight maneuver; aircraft tips laterally about its longitudinal axis (especially in turning)\n",
      "11. bank.v.01: tip laterally\n",
      "12. bank.v.02: enclose with a bank\n",
      "13. bank.v.03: do business with a bank or keep an account at a bank\n",
      "14. bank.v.04: act as the banker in a game or in gambling\n",
      "15. bank.v.05: be in the banking business\n",
      "16. deposit.v.02: put into a bank account\n",
      "17. bank.v.07: cover with ashes so to control the rate of burning\n",
      "18. trust.v.01: have confidence or faith in\n",
      "\n",
      "Sentence: The river bank was overflowing.\n",
      "Best sense of 'bank': bank.n.01\n",
      "Definition: sloping land (especially the slope beside a body of water)\n",
      "\n",
      "All possible senses for 'bank':\n",
      "1. bank.n.01: sloping land (especially the slope beside a body of water)\n",
      "2. depository_financial_institution.n.01: a financial institution that accepts deposits and channels the money into lending activities\n",
      "3. bank.n.03: a long ridge or pile\n",
      "4. bank.n.04: an arrangement of similar objects in a row or in tiers\n",
      "5. bank.n.05: a supply or stock held in reserve for future use (especially in emergencies)\n",
      "6. bank.n.06: the funds held by a gambling house or the dealer in some gambling games\n",
      "7. bank.n.07: a slope in the turn of a road or track; the outside is higher than the inside in order to reduce the effects of centrifugal force\n",
      "8. savings_bank.n.02: a container (usually with a slot in the top) for keeping money at home\n",
      "9. bank.n.09: a building in which the business of banking transacted\n",
      "10. bank.n.10: a flight maneuver; aircraft tips laterally about its longitudinal axis (especially in turning)\n",
      "11. bank.v.01: tip laterally\n",
      "12. bank.v.02: enclose with a bank\n",
      "13. bank.v.03: do business with a bank or keep an account at a bank\n",
      "14. bank.v.04: act as the banker in a game or in gambling\n",
      "15. bank.v.05: be in the banking business\n",
      "16. deposit.v.02: put into a bank account\n",
      "17. bank.v.07: cover with ashes so to control the rate of burning\n",
      "18. trust.v.01: have confidence or faith in\n",
      "\n",
      "Sentence: He withdrew money from the bank.\n",
      "Best sense of 'bank': bank.n.04\n",
      "Definition: an arrangement of similar objects in a row or in tiers\n"
     ]
    }
   ],
   "source": [
    "#implement Lesk Algo - is simple knowledge-based WSD method - lesk()\n",
    "import nltk\n",
    "from nltk.corpus import wordnet as wn\n",
    "\n",
    "# Sentences with the word \"bank\" to disambiguate\n",
    "sentences = [\n",
    "    \"The river bank was overflowing.\",\n",
    "    \"He withdrew money from the bank.\"\n",
    "]\n",
    "\n",
    "# Define a function to manually find the appropriate sense\n",
    "def get_best_sense(word, context):\n",
    "    # Get all the synsets (senses) for the word\n",
    "    synsets = wn.synsets(word)\n",
    "    \n",
    "    # Display all possible senses of the word\n",
    "    print(f\"\\nAll possible senses for '{word}':\")\n",
    "    for i, syn in enumerate(synsets, 1):\n",
    "        print(f\"{i}. {syn.name()}: {syn.definition()}\")\n",
    "    \n",
    "    # Based on context, manually select the appropriate sense\n",
    "    if \"river\" in context or \"overflowing\" in context:\n",
    "        # Select the sense related to the geographical feature (river bank)\n",
    "         # Synset index for 'bank' as a riverbank\n",
    "        selected_sense = synsets[0] \n",
    "    elif \"money\" in context or \"withdrew\" in context:\n",
    "        # Select the financial institution sense\n",
    "        # Synset index for 'bank' as a financial institution\n",
    "        selected_sense = synsets[3]  \n",
    "    else:\n",
    "        selected_sense = None\n",
    "\n",
    "    return selected_sense\n",
    "\n",
    "# Loop through each sentence\n",
    "for sentence in sentences:\n",
    "    # Tokenize the sentence\n",
    "    tokens = nltk.word_tokenize(sentence)\n",
    "    \n",
    "    # Use manual disambiguation based on the context\n",
    "    best_sense = get_best_sense('bank', sentence)\n",
    "    \n",
    "    if best_sense:\n",
    "        print(f\"\\nSentence: {sentence}\")\n",
    "        print(f\"Best sense of 'bank': {best_sense.name()}\")\n",
    "        print(f\"Definition: {best_sense.definition()}\")\n",
    "    else:\n",
    "        print(f\"No suitable sense found for 'bank' in the sentence.\")"
   ]
  },
  {
   "cell_type": "code",
   "execution_count": null,
   "id": "7f5cd337-f582-47d8-a396-d38140b34ab9",
   "metadata": {},
   "outputs": [],
   "source": []
  }
 ],
 "metadata": {
  "kernelspec": {
   "display_name": "Python 3 (ipykernel)",
   "language": "python",
   "name": "python3"
  },
  "language_info": {
   "codemirror_mode": {
    "name": "ipython",
    "version": 3
   },
   "file_extension": ".py",
   "mimetype": "text/x-python",
   "name": "python",
   "nbconvert_exporter": "python",
   "pygments_lexer": "ipython3",
   "version": "3.12.4"
  }
 },
 "nbformat": 4,
 "nbformat_minor": 5
}

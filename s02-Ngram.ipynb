{
 "cells": [
  {
   "cell_type": "markdown",
   "id": "5b151d3c-37f4-414b-bef5-99b730fd6fce",
   "metadata": {},
   "source": [
    "# NLP\n",
    "Why nlp is hard?\n",
    "\n",
    "    1.Ambuguity\n",
    "        - bank\n",
    "            -financial\n",
    "            - side of the river\n",
    "    2. Variability\n",
    "    3.context- dependence\n",
    "    4. Resource requirements\n",
    "\n",
    "Levels of Languages\n",
    "    - phonology\n",
    "        - the study of the sound system of a language\n",
    "        - phonological analysis is crucial task like speeh recognition and synthesis\n",
    "        -understanding the sound patterns in essential for converting spoken language into text\n",
    "        -phonemes\n",
    "            - are the smallest units of sound in a language\n",
    "    - morphology\n",
    "        -the study of the sturecture of words, it involves understanding how words are fomred from norphemes\n",
    "            -norphemes\n",
    "                -smallest units of meaning\n",
    "            - morphological analysis helps in task like stemming, where words are reduced to their based form\n",
    "    - syntax\n",
    "        - the study of the structure of sentences in form grammatically form\n",
    "        - syntatic analysis is used for parshing sentences (machine translation)\n",
    "    - semantics\n",
    "        - the study of meeaning in language\n",
    "            - semantic analysis focuses on understanding the meaning of words, phrases and sentences\n",
    "    - pregmantics\n",
    "        - is the study of how context influences the interpretation of meaning\n",
    "            - pregmatic analysis considers the speaker's intent, the relationship between the speaker and listener and other contextual factors\n",
    "\n",
    "N-grams\n",
    "    - continguous sequence of n item and from a given sample of text\n",
    "    - (NLP) is used to predict what word in a sequce by looking at the previous "
   ]
  },
  {
   "cell_type": "code",
   "execution_count": 3,
   "id": "de766eb6-695a-4b92-856b-fcb326fce70a",
   "metadata": {},
   "outputs": [],
   "source": [
    "import random\n",
    "from collections import defaultdict"
   ]
  },
  {
   "cell_type": "code",
   "execution_count": 5,
   "id": "c1400d5b-547f-4075-9aff-ea6d1dafb948",
   "metadata": {},
   "outputs": [
    {
     "data": {
      "text/plain": [
       "defaultdict(int, {})"
      ]
     },
     "execution_count": 5,
     "metadata": {},
     "output_type": "execute_result"
    }
   ],
   "source": [
    "#default value 0\n",
    "d = defaultdict(int)\n",
    "d"
   ]
  },
  {
   "cell_type": "code",
   "execution_count": 7,
   "id": "291fa6bb-a940-482f-aef8-dc2dcfae6ea0",
   "metadata": {},
   "outputs": [
    {
     "name": "stdout",
     "output_type": "stream",
     "text": [
      "defaultdict(<class 'int'>, {})\n"
     ]
    }
   ],
   "source": [
    "print(d)"
   ]
  },
  {
   "cell_type": "code",
   "execution_count": 9,
   "id": "90c0b979-5bf4-47f9-8078-ac52043418db",
   "metadata": {},
   "outputs": [
    {
     "name": "stdout",
     "output_type": "stream",
     "text": [
      "defaultdict(<class 'int'>, {'apply': 1, 'remove': 2, 'update': 3})\n"
     ]
    }
   ],
   "source": [
    "#defaultdict subclass for python's built-in dict(dictionary) that returns a default if the requested g\n",
    "d['apply'] += 1\n",
    "d['remove'] += 2\n",
    "d['update'] += 3\n",
    "print(d)"
   ]
  },
  {
   "cell_type": "code",
   "execution_count": 17,
   "id": "8dfddf59-403d-4949-8f66-419b8bbadb07",
   "metadata": {},
   "outputs": [],
   "source": [
    "# sample text for n-gram\\\n",
    "text = \"I love Pia. I like Nicole.\"\n",
    "\n",
    "#create a bigram model\n",
    "n =2 \n",
    "ngrams = defaultdict(list)\n",
    "words= text.split()\n",
    "\n",
    "for i in range(len(words) - n +1) :\n",
    "    gram = tuple(words[i:i + n])\n",
    "    next_word = words[i+n] if i + n < len(words) else None\n",
    "\n",
    "    if next_word:\n",
    "        ngrams[gram].append(next_word)\n",
    "\n"
   ]
  },
  {
   "cell_type": "code",
   "execution_count": 25,
   "id": "598d450f-51f4-47e4-b3c2-9a49ff5cd06b",
   "metadata": {},
   "outputs": [],
   "source": [
    "#generate random text using bigram  model\n",
    "#choose a gram that has a next words\n",
    "current_gram = random.choice([gram for gram in ngrams if ngrams[gram]])"
   ]
  },
  {
   "cell_type": "code",
   "execution_count": 33,
   "id": "6c3ea147-1535-4ce9-bc82-353b17679b50",
   "metadata": {},
   "outputs": [
    {
     "name": "stdout",
     "output_type": "stream",
     "text": [
      "Pia. I like Nicole.\n"
     ]
    }
   ],
   "source": [
    "#generate 10 words\n",
    "result = list(current_gram)\n",
    "for _ in range (10):\n",
    "    if current_gram in ngrams and ngrams[current_gram]:\n",
    "        next_word = random.choice(ngrams[current_gram])\n",
    "        result.append(next_word)\n",
    "        current_gram = tuple(result[-n:])\n",
    "    else:\n",
    "        break\n",
    "\n",
    "generated_text = ' '.join(result)\n",
    "print(generated_text)"
   ]
  },
  {
   "cell_type": "code",
   "execution_count": 35,
   "id": "167e5d39-af85-4bd9-a14e-31736b388538",
   "metadata": {},
   "outputs": [],
   "source": [
    "#user input\n",
    "# user_input= \"\" "
   ]
  },
  {
   "cell_type": "code",
   "execution_count": 37,
   "id": "7e74dc52-624f-4261-84a0-8e0fc6eb82a5",
   "metadata": {},
   "outputs": [
    {
     "name": "stdin",
     "output_type": "stream",
     "text": [
      "Enter a word or phrase:  hello\n"
     ]
    },
    {
     "name": "stdout",
     "output_type": "stream",
     "text": [
      "No matching grams found\n"
     ]
    }
   ],
   "source": [
    "# BIGRAM\n",
    "import random\n",
    "from collections import defaultdict\n",
    "\n",
    "# Sample text for n-gram generation\n",
    "text = \"I love Pia. I like Nicole\"\n",
    "\n",
    "# Create a bigram model\n",
    "n = 2\n",
    "ngrams = defaultdict(list)\n",
    "words = text.split()\n",
    "\n",
    "for i in range(len(words) - n + 1):\n",
    "    gram = tuple(words[i:i+n])\n",
    "    next_word = words[i+n] if i+n < len(words) else None\n",
    "    if next_word: # Only add next_word if it's not None\n",
    "        ngrams[gram].append(next_word)\n",
    "\n",
    "#Get user input\n",
    "user_input = input(\"Enter a word or phrase: \")\n",
    "input_words = user_input.split()\n",
    "\n",
    "#Find matching grams\n",
    "matching_grams = [gram for gram in ngrams if gram[-1] == input_words[-1]]\n",
    "\n",
    "if matching_grams:\n",
    "    current_gram = random.choice(matching_grams)\n",
    "    result = list(current_gram)\n",
    "\n",
    "    #autocomplete suggestions\n",
    "    for _ in range(10):        \n",
    "        if current_gram in ngrams and ngrams[current_gram]:\n",
    "            next_word = random.choice(ngrams[current_gram])\n",
    "            result.append(next_word)\n",
    "            current_gram = tuple(result[-n:])\n",
    "        else:\n",
    "            break\n",
    "\n",
    "    print(\"Autocomplete suggestion: : \", \" \".join(result))\n",
    "else:\n",
    "  print(\"No matching grams found\")"
   ]
  },
  {
   "cell_type": "code",
   "execution_count": null,
   "id": "2f7e0016-81c1-404a-a2b6-cd600407169f",
   "metadata": {},
   "outputs": [],
   "source": []
  }
 ],
 "metadata": {
  "kernelspec": {
   "display_name": "Python 3 (ipykernel)",
   "language": "python",
   "name": "python3"
  },
  "language_info": {
   "codemirror_mode": {
    "name": "ipython",
    "version": 3
   },
   "file_extension": ".py",
   "mimetype": "text/x-python",
   "name": "python",
   "nbconvert_exporter": "python",
   "pygments_lexer": "ipython3",
   "version": "3.12.4"
  }
 },
 "nbformat": 4,
 "nbformat_minor": 5
}
